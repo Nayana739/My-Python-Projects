{
 "cells": [
  {
   "cell_type": "code",
   "execution_count": 1,
   "id": "74d4678c",
   "metadata": {},
   "outputs": [
    {
     "name": "stdout",
     "output_type": "stream",
     "text": [
      "{'name': 'vijaya college', 'code': 'INDIA', 'pincode': 560004}\n",
      "{'name': 'vijaya college', 'code': 'INDIA', 'pincode': 560004, 'location': 'r v road'}\n",
      "{'name': 'vijaya college', 'code': 'INDIA', 'pincode': 560004, 'location': 'chitradurga'}\n",
      "length of college is: 4\n",
      "college['name']: vijaya college\n",
      "560004\n",
      "{'name': 'vijaya college', 'code': 'INDIA', 'pincode': 560004, 'location': 'chitradurga'}\n"
     ]
    }
   ],
   "source": [
    "# creating a dictionary\n",
    "college={'name': \"vijaya college\", 'code': \"INDIA\",'pincode': 560004 }\n",
    "print(college)\n",
    "\n",
    "#adding items to dictionary\n",
    "college[\"location\"] = \"r v road\"\n",
    "print(college)\n",
    "\n",
    "#changing values of a key\n",
    "college[\"location\"] = \"chitradurga\"\n",
    "print(college)\n",
    "\n",
    "#know the length using len()\n",
    "print(\"length of college is:\",len(college))\n",
    "\n",
    "#Acess items\n",
    "print(\"college['name']:\",college['name'])\n",
    "\n",
    "# use get ()\n",
    "x=college.get('pincode')\n",
    "print(x)\n",
    "\n",
    "#to copy the same dictionary use copy()\n",
    "mycollege= college.copy()\n",
    "print(mycollege)"
   ]
  }
 ],
 "metadata": {
  "kernelspec": {
   "display_name": "Python 3",
   "language": "python",
   "name": "python3"
  },
  "language_info": {
   "codemirror_mode": {
    "name": "ipython",
    "version": 3
   },
   "file_extension": ".py",
   "mimetype": "text/x-python",
   "name": "python",
   "nbconvert_exporter": "python",
   "pygments_lexer": "ipython3",
   "version": "3.11.8"
  }
 },
 "nbformat": 4,
 "nbformat_minor": 5
}
