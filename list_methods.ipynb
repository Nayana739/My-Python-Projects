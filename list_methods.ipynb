{
 "cells": [
  {
   "cell_type": "code",
   "execution_count": 3,
   "id": "5e1eacdb",
   "metadata": {},
   "outputs": [
    {
     "name": "stdout",
     "output_type": "stream",
     "text": [
      "[1, 3, 5, 6, 7, 4, 'hello']\n",
      "[1, 3, 5, 20, 6, 7, 4, 'hello']\n",
      "[1, 3, 5, 20, 6, 4, 'hello']\n",
      "[1, 3, 5, 20, 6, 4, 'hello', 'hi']\n",
      "8\n",
      "[1, 3, 5, 20, 6, 4, 'hello']\n",
      "[1, 3, 5, 20, 6, 'hello']\n",
      "[]\n"
     ]
    }
   ],
   "source": [
    "a=[1,3,5,6,7,4,\"hello\"]\n",
    "print(a)\n",
    "\n",
    "#insert()\n",
    "a.insert(3,20)\n",
    "print(a)\n",
    "\n",
    "#remove()\n",
    "a.remove(7)\n",
    "print(a)\n",
    "\n",
    "#append()\n",
    "a.append(\"hi\")\n",
    "print(a)\n",
    "c=len(a)\n",
    "print(c)\n",
    "\n",
    "#pop()\n",
    "a.pop()\n",
    "print(a)\n",
    "a.pop(5)\n",
    "print(a)\n",
    "\n",
    "# clear()\n",
    "a.clear()\n",
    "print(a)\n"
   ]
  }
 ],
 "metadata": {
  "kernelspec": {
   "display_name": "Python 3",
   "language": "python",
   "name": "python3"
  },
  "language_info": {
   "codemirror_mode": {
    "name": "ipython",
    "version": 3
   },
   "file_extension": ".py",
   "mimetype": "text/x-python",
   "name": "python",
   "nbconvert_exporter": "python",
   "pygments_lexer": "ipython3",
   "version": "3.11.8"
  }
 },
 "nbformat": 4,
 "nbformat_minor": 5
}
