{
 "cells": [
  {
   "cell_type": "code",
   "execution_count": 1,
   "id": "fac08f43",
   "metadata": {},
   "outputs": [
    {
     "name": "stdout",
     "output_type": "stream",
     "text": [
      "('v', 'i', 'b', 'g', 'y', 'o', 'r')\n",
      "('violet', 'blue', 'green', 'yellow', 'orange', 'red')\n",
      "('v', 'i', 'b', 'g', 'y', 'o', 'r', 'violet', 'blue', 'green', 'yellow', 'orange', 'red')\n",
      "13\n",
      "rainbow[2]: b\n",
      "rainbow[1:3] ('i', 'b')\n",
      "rainbow[0:4] ('v', 'i', 'b', 'g')\n"
     ]
    }
   ],
   "source": [
    "#creating a tuple\n",
    "rainbow=(\"v\",\"i\",\"b\",\"g\",\"y\",\"o\",\"r\")\n",
    "print(rainbow)\n",
    "\n",
    "colour=(\"violet\",\"blue\",\"green\",\"yellow\",\"orange\",\"red\")\n",
    "print(colour)\n",
    "\n",
    "# Add items in tuples\n",
    "rainbow_colour=rainbow+colour\n",
    "print(rainbow_colour)\n",
    "\n",
    "#length of the tuple\n",
    "c=len (rainbow_colour)\n",
    "print(c)\n",
    "\n",
    "#Access items in tuple\n",
    "print(\"rainbow[2]:\",rainbow[2])\n",
    "\"\"\"rainbow[1:3] means all the items in rainbow tuple\n",
    "starting from an index value of 1 up to an index value of 4\"\"\"\n",
    "print(\"rainbow[1:3]\",rainbow[1:3])\n",
    "print(\"rainbow[0:4]\",rainbow[0:4])"
   ]
  }
 ],
 "metadata": {
  "kernelspec": {
   "display_name": "Python 3",
   "language": "python",
   "name": "python3"
  },
  "language_info": {
   "codemirror_mode": {
    "name": "ipython",
    "version": 3
   },
   "file_extension": ".py",
   "mimetype": "text/x-python",
   "name": "python",
   "nbconvert_exporter": "python",
   "pygments_lexer": "ipython3",
   "version": "3.11.8"
  }
 },
 "nbformat": 4,
 "nbformat_minor": 5
}
