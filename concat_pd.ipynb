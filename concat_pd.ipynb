{
 "cells": [
  {
   "cell_type": "code",
   "execution_count": 4,
   "id": "a7d77f9c",
   "metadata": {},
   "outputs": [
    {
     "name": "stdout",
     "output_type": "stream",
     "text": [
      "      Name  age\n",
      "1  Nirmala   19\n",
      "2    Gowri   20\n",
      "3     Suma   20\n",
      "4  Kavitha   21\n"
     ]
    }
   ],
   "source": [
    "import pandas as pd\n",
    "\n",
    "one=pd.DataFrame({'Name':['Nirmala','Gowri'],'age':[19,20]},index=[1,2])\n",
    "two=pd.DataFrame({'Name':['Suma','Kavitha'],'age':[20,21]},index=[3,4])\n",
    "result=pd.concat([one,two])\n",
    "print(result)"
   ]
  }
 ],
 "metadata": {
  "kernelspec": {
   "display_name": "Python 3",
   "language": "python",
   "name": "python3"
  },
  "language_info": {
   "codemirror_mode": {
    "name": "ipython",
    "version": 3
   },
   "file_extension": ".py",
   "mimetype": "text/x-python",
   "name": "python",
   "nbconvert_exporter": "python",
   "pygments_lexer": "ipython3",
   "version": "3.11.8"
  }
 },
 "nbformat": 4,
 "nbformat_minor": 5
}
