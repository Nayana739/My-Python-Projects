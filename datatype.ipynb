{
 "cells": [
  {
   "cell_type": "code",
   "execution_count": 1,
   "id": "5381d0e8",
   "metadata": {},
   "outputs": [
    {
     "name": "stdout",
     "output_type": "stream",
     "text": [
      "Data type of Variable a : <class 'int'>\n",
      "Data type of Variable b : <class 'str'>\n",
      "Data type of Variable c : <class 'float'>\n",
      "Data type of Variable d : <class 'complex'>\n",
      "Data type of Variable e : <class 'bool'>\n",
      "Data type of Variable l : <class 'list'>\n",
      "Data type of Variable t : <class 'tuple'>\n",
      "Data type of Variable s : <class 'set'>\n",
      "Data type of Variable dic : <class 'dict'>\n",
      "Data type of Variable n : <class 'NoneType'>\n"
     ]
    }
   ],
   "source": [
    "a=10\n",
    "b=\"Python\"\n",
    "c=10.5\n",
    "d=1.5+2.3j\n",
    "e=True\n",
    "l=[1,2,3,4]\n",
    "t=(1,2,3,4)\n",
    "s={1,2,3,4}\n",
    "dic={\"name\":\"Vijaya\",\"dept\":\"CS\"}\n",
    "n=None\n",
    "print(\"Data type of Variable a :\",type(a))\n",
    "print(\"Data type of Variable b :\",type(b))\n",
    "print(\"Data type of Variable c :\",type(c))\n",
    "print(\"Data type of Variable d :\",type(d))\n",
    "print(\"Data type of Variable e :\",type(e))\n",
    "print(\"Data type of Variable l :\",type(l))\n",
    "print(\"Data type of Variable t :\",type(t))\n",
    "print(\"Data type of Variable s :\",type(s))\n",
    "print(\"Data type of Variable dic :\",type(dic))\n",
    "print(\"Data type of Variable n :\",type(n))\n"
   ]
  }
 ],
 "metadata": {
  "kernelspec": {
   "display_name": "Python 3",
   "language": "python",
   "name": "python3"
  },
  "language_info": {
   "codemirror_mode": {
    "name": "ipython",
    "version": 3
   },
   "file_extension": ".py",
   "mimetype": "text/x-python",
   "name": "python",
   "nbconvert_exporter": "python",
   "pygments_lexer": "ipython3",
   "version": "3.11.8"
  }
 },
 "nbformat": 4,
 "nbformat_minor": 5
}
